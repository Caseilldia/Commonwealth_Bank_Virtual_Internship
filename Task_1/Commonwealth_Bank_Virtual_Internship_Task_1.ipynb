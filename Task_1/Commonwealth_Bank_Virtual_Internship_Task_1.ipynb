{
 "cells": [
  {
   "cell_type": "code",
   "execution_count": 75,
   "metadata": {},
   "outputs": [],
   "source": [
    "## Casey Douthitt\n",
    "## 1/2/2021\n",
    "\n",
    "import pandas as pd\n",
    "import numpy as np\n",
    "import matplotlib.pyplot as plt"
   ]
  },
  {
   "cell_type": "code",
   "execution_count": 76,
   "metadata": {},
   "outputs": [
    {
     "data": {
      "text/html": [
       "<div>\n",
       "<style scoped>\n",
       "    .dataframe tbody tr th:only-of-type {\n",
       "        vertical-align: middle;\n",
       "    }\n",
       "\n",
       "    .dataframe tbody tr th {\n",
       "        vertical-align: top;\n",
       "    }\n",
       "\n",
       "    .dataframe thead th {\n",
       "        text-align: right;\n",
       "    }\n",
       "</style>\n",
       "<table border=\"1\" class=\"dataframe\">\n",
       "  <thead>\n",
       "    <tr style=\"text-align: right;\">\n",
       "      <th></th>\n",
       "      <th>Customer ID</th>\n",
       "      <th>Age</th>\n",
       "      <th>Age Group</th>\n",
       "      <th>Postcode</th>\n",
       "      <th>Gender</th>\n",
       "      <th>Favourite Cookie</th>\n",
       "      <th>Cookies bought each week</th>\n",
       "    </tr>\n",
       "  </thead>\n",
       "  <tbody>\n",
       "    <tr>\n",
       "      <th>0</th>\n",
       "      <td>1001</td>\n",
       "      <td>60</td>\n",
       "      <td>60-69</td>\n",
       "      <td>2000</td>\n",
       "      <td>M</td>\n",
       "      <td>Choc chip</td>\n",
       "      <td>1</td>\n",
       "    </tr>\n",
       "    <tr>\n",
       "      <th>1</th>\n",
       "      <td>1002</td>\n",
       "      <td>53</td>\n",
       "      <td>50-59</td>\n",
       "      <td>2010</td>\n",
       "      <td>M</td>\n",
       "      <td>Choc chip</td>\n",
       "      <td>1</td>\n",
       "    </tr>\n",
       "    <tr>\n",
       "      <th>2</th>\n",
       "      <td>1003</td>\n",
       "      <td>22</td>\n",
       "      <td>20-29</td>\n",
       "      <td>2010</td>\n",
       "      <td>F</td>\n",
       "      <td>Choc chip</td>\n",
       "      <td>2</td>\n",
       "    </tr>\n",
       "    <tr>\n",
       "      <th>3</th>\n",
       "      <td>1004</td>\n",
       "      <td>30</td>\n",
       "      <td>30-39</td>\n",
       "      <td>2010</td>\n",
       "      <td>F</td>\n",
       "      <td>Choc chip</td>\n",
       "      <td>6</td>\n",
       "    </tr>\n",
       "    <tr>\n",
       "      <th>4</th>\n",
       "      <td>1005</td>\n",
       "      <td>52</td>\n",
       "      <td>50-59</td>\n",
       "      <td>2010</td>\n",
       "      <td>F</td>\n",
       "      <td>Macadamia</td>\n",
       "      <td>3</td>\n",
       "    </tr>\n",
       "  </tbody>\n",
       "</table>\n",
       "</div>"
      ],
      "text/plain": [
       "   Customer ID  Age Age Group  Postcode Gender Favourite Cookie  \\\n",
       "0         1001   60     60-69      2000      M        Choc chip   \n",
       "1         1002   53     50-59      2010      M        Choc chip   \n",
       "2         1003   22     20-29      2010      F        Choc chip   \n",
       "3         1004   30     30-39      2010      F        Choc chip   \n",
       "4         1005   52     50-59      2010      F        Macadamia   \n",
       "\n",
       "   Cookies bought each week  \n",
       "0                         1  \n",
       "1                         1  \n",
       "2                         2  \n",
       "3                         6  \n",
       "4                         3  "
      ]
     },
     "execution_count": 76,
     "metadata": {},
     "output_type": "execute_result"
    }
   ],
   "source": [
    "cookies = pd.read_excel('Cookie_Data.xlsx')\n",
    "cookies.head()"
   ]
  },
  {
   "cell_type": "code",
   "execution_count": 77,
   "metadata": {},
   "outputs": [
    {
     "name": "stdout",
     "output_type": "stream",
     "text": [
      "['60-69' '50-59' '20-29' '30-39' '40-49' '10-19']\n",
      "['M' 'F']\n",
      "0      1\n",
      "1      1\n",
      "2      2\n",
      "3      6\n",
      "4      3\n",
      "5      3\n",
      "6      8\n",
      "7      2\n",
      "8      1\n",
      "9      3\n",
      "10     6\n",
      "11     6\n",
      "12     6\n",
      "13     3\n",
      "14     3\n",
      "15     2\n",
      "16     2\n",
      "17     1\n",
      "18     4\n",
      "19     3\n",
      "20     3\n",
      "21     3\n",
      "22     4\n",
      "23     5\n",
      "24     9\n",
      "25     6\n",
      "26     1\n",
      "27    10\n",
      "28    11\n",
      "29    20\n",
      "30     1\n",
      "31     1\n",
      "32     1\n",
      "33     1\n",
      "34     4\n",
      "35     1\n",
      "36     1\n",
      "37     1\n",
      "38    11\n",
      "39     2\n",
      "40     3\n",
      "41     3\n",
      "42     3\n",
      "43     3\n",
      "44     2\n",
      "45     7\n",
      "Name: Cookies bought each week, dtype: int64\n"
     ]
    }
   ],
   "source": [
    "unique_ages = cookies['Age Group'].unique()\n",
    "unique_genders = cookies['Gender'].unique()\n",
    "cookie_purchases = cookies['Cookies bought each week']\n",
    "favourite_cookies_list = cookies['Favourite Cookie']\n",
    "unique_cookie_types = cookies['Favourite Cookie'].unique()\n",
    "genders_list = cookies['Gender']\n",
    "unique_postcodes = cookies['Postcode'].unique()\n",
    "postcodes_list = cookies['Postcode']\n",
    "\n",
    "print(unique_ages)\n",
    "print(unique_genders)\n",
    "print(cookie_purchases)"
   ]
  },
  {
   "cell_type": "code",
   "execution_count": 78,
   "metadata": {},
   "outputs": [
    {
     "name": "stdout",
     "output_type": "stream",
     "text": [
      "['M60-69', 'F60-69', 'M50-59', 'F50-59', 'M20-29', 'F20-29', 'M30-39', 'F30-39', 'M40-49', 'F40-49', 'M10-19', 'F10-19']\n",
      "{}\n"
     ]
    }
   ],
   "source": [
    "import string\n",
    "\n",
    "demographic_count = {}\n",
    "demographic_cookie_count = {}\n",
    "demographics_list = []\n",
    "\n",
    "for age in unique_ages:\n",
    "    for gender in unique_genders:\n",
    "        demo = []\n",
    "        demo.append(gender)\n",
    "        demo.append(age)\n",
    "        demographics_list.append(''.join((demo[0], demo[1])))\n",
    "            \n",
    "print(demographics_list)\n",
    "print(demographic_count)"
   ]
  },
  {
   "cell_type": "code",
   "execution_count": 79,
   "metadata": {},
   "outputs": [
    {
     "name": "stdout",
     "output_type": "stream",
     "text": [
      "['M60-69', 'M50-59', 'F20-29', 'F30-39', 'F50-59', 'F20-29', 'F20-29', 'F40-49', 'F40-49', 'M20-29', 'F10-19', 'M30-39', 'M30-39', 'M20-29', 'M50-59', 'F30-39', 'F30-39', 'F40-49', 'F60-69', 'F60-69', 'F30-39', 'M60-69', 'M60-69', 'M50-59', 'F40-49', 'M50-59', 'M30-39', 'F10-19', 'F10-19', 'F10-19', 'F20-29', 'F10-19', 'M10-19', 'F10-19', 'M10-19', 'M10-19', 'M30-39', 'M20-29', 'M20-29', 'F20-29', 'F30-39', 'F20-29', 'F40-49', 'F40-49', 'M10-19', 'F10-19']\n",
      "46\n"
     ]
    }
   ],
   "source": [
    "ages = cookies['Age Group']\n",
    "genders = cookies['Gender']\n",
    "\n",
    "all_demos_list = []\n",
    "\n",
    "for age, gender in zip(ages, genders):\n",
    "    demo = []\n",
    "    demo.append(gender)\n",
    "    demo.append(age)\n",
    "    all_demos_list.append(''.join((demo[0], demo[1])))\n",
    "\n",
    "print(all_demos_list)\n",
    "print(len(all_demos_list))"
   ]
  },
  {
   "cell_type": "code",
   "execution_count": 80,
   "metadata": {},
   "outputs": [
    {
     "name": "stdout",
     "output_type": "stream",
     "text": [
      "{'M60-69': 3, 'F60-69': 2, 'M50-59': 4, 'F50-59': 1, 'M20-29': 4, 'F20-29': 6, 'M30-39': 4, 'F30-39': 5, 'M40-49': 0, 'F40-49': 6, 'M10-19': 4, 'F10-19': 7}\n"
     ]
    },
    {
     "data": {
      "text/plain": [
       "<BarContainer object of 12 artists>"
      ]
     },
     "execution_count": 80,
     "metadata": {},
     "output_type": "execute_result"
    },
    {
     "data": {
      "image/png": "[encoded data removed]",
      "text/plain": [
       "<Figure size 936x360 with 1 Axes>"
      ]
     },
     "metadata": {
      "needs_background": "light"
     },
     "output_type": "display_data"
    }
   ],
   "source": [
    "for unique in demographics_list:\n",
    "    demographic_count[unique] = 0\n",
    "    for demo in all_demos_list:\n",
    "        if demo == unique:\n",
    "            demographic_count[unique] += 1\n",
    "    \n",
    "print(demographic_count)\n",
    "\n",
    "labels, values = zip(*demographic_count.items())\n",
    "plt.figure(figsize=(13,5)) \n",
    "plt.ylabel('Purchase Count')\n",
    "plt.xlabel('Demographic')\n",
    "plt.title('Purchases Counts For Different Demographics')\n",
    "plt.bar(labels, values)"
   ]
  },
  {
   "cell_type": "code",
   "execution_count": 68,
   "metadata": {},
   "outputs": [
    {
     "name": "stdout",
     "output_type": "stream",
     "text": [
      "{'M60-69': 8, 'F60-69': 7, 'M50-59': 15, 'F50-59': 3, 'M20-29': 18, 'F20-29': 19, 'M30-39': 14, 'F30-39': 16, 'M40-49': 0, 'F40-49': 19, 'M10-19': 8, 'F10-19': 56}\n"
     ]
    },
    {
     "data": {
      "text/plain": [
       "<BarContainer object of 12 artists>"
      ]
     },
     "execution_count": 68,
     "metadata": {},
     "output_type": "execute_result"
    },
    {
     "data": {
      "image/png": "[encoded data removed]",
      "text/plain": [
       "<Figure size 936x360 with 1 Axes>"
      ]
     },
     "metadata": {
      "needs_background": "light"
     },
     "output_type": "display_data"
    }
   ],
   "source": [
    "for unique in demographics_list:\n",
    "    demographic_cookie_count[unique] = 0\n",
    "    for demo, weekly_cookies in zip(all_demos_list, cookie_purchases):\n",
    "        if demo == unique:\n",
    "            demographic_cookie_count[unique] += weekly_cookies\n",
    "    \n",
    "print(demographic_cookie_count)\n",
    "\n",
    "labels, values = zip(*demographic_cookie_count.items())\n",
    "plt.figure(figsize=(13,5)) \n",
    "plt.ylabel('Cookies Bought')\n",
    "plt.xlabel('Demographic')\n",
    "plt.title('Total Cookies Bought For Different Demographics')\n",
    "plt.bar(labels, values)"
   ]
  },
  {
   "cell_type": "code",
   "execution_count": 81,
   "metadata": {},
   "outputs": [
    {
     "name": "stdout",
     "output_type": "stream",
     "text": [
      "{'Choc chip': 12, 'Macadamia': 16, 'Triple choc': 6, 'Granola': 6, 'Mint': 4, 'Salted caramel': 2}\n",
      "{'Choc chip': 58, 'Macadamia': 71, 'Triple choc': 14, 'Granola': 27, 'Mint': 11, 'Salted caramel': 2}\n"
     ]
    },
    {
     "data": {
      "text/plain": [
       "<BarContainer object of 6 artists>"
      ]
     },
     "execution_count": 81,
     "metadata": {},
     "output_type": "execute_result"
    },
    {
     "data": {
      "image/png": "[encoded data removed]",
      "text/plain": [
       "<Figure size 936x360 with 1 Axes>"
      ]
     },
     "metadata": {
      "needs_background": "light"
     },
     "output_type": "display_data"
    },
    {
     "data": {
      "image/png": "[encoded data removed]",
      "text/plain": [
       "<Figure size 936x360 with 1 Axes>"
      ]
     },
     "metadata": {
      "needs_background": "light"
     },
     "output_type": "display_data"
    }
   ],
   "source": [
    "\n",
    "cookie_type_purchase_counts = {}\n",
    "cookie_type_total_counts = {}\n",
    "\n",
    "for unique in unique_cookie_types:\n",
    "    cookie_type_purchase_counts[unique] = 0\n",
    "    for flavour in favourite_cookies_list:\n",
    "        if flavour == unique:\n",
    "            cookie_type_purchase_counts[unique] += 1\n",
    "\n",
    "print(cookie_type_purchase_counts)\n",
    "\n",
    "labels, values = zip(*cookie_type_purchase_counts.items())\n",
    "plt.figure(figsize=(13,5)) \n",
    "plt.ylabel('Total Purchases')\n",
    "plt.xlabel('Cookie Type')\n",
    "plt.title('Purchases Counts For Different Types of Cookies')\n",
    "plt.bar(labels, values)\n",
    "\n",
    "for unique in unique_cookie_types:\n",
    "    cookie_type_total_counts[unique] = 0\n",
    "    for flavour, cookies in zip(favourite_cookies_list, cookie_purchases):\n",
    "        if flavour == unique:\n",
    "            cookie_type_total_counts[unique] += cookies\n",
    "\n",
    "print(cookie_type_total_counts)\n",
    "\n",
    "labels, values = zip(*cookie_type_total_counts.items())\n",
    "plt.figure(figsize=(13,5)) \n",
    "plt.ylabel('Total Purchases')\n",
    "plt.xlabel('Cookie Type')\n",
    "plt.title('Purchases Counts For Different Types of Cookies')\n",
    "plt.bar(labels, values)"
   ]
  },
  {
   "cell_type": "code",
   "execution_count": 82,
   "metadata": {},
   "outputs": [
    {
     "name": "stdout",
     "output_type": "stream",
     "text": [
      "{'M': 19, 'F': 27}\n",
      "{'M': 63, 'F': 120}\n"
     ]
    },
    {
     "data": {
      "text/plain": [
       "<BarContainer object of 2 artists>"
      ]
     },
     "execution_count": 82,
     "metadata": {},
     "output_type": "execute_result"
    },
    {
     "data": {
      "image/png": "[encoded data removed]",
      "text/plain": [
       "<Figure size 360x360 with 1 Axes>"
      ]
     },
     "metadata": {
      "needs_background": "light"
     },
     "output_type": "display_data"
    },
    {
     "data": {
      "image/png": "[encoded data removed]",
      "text/plain": [
       "<Figure size 360x360 with 1 Axes>"
      ]
     },
     "metadata": {
      "needs_background": "light"
     },
     "output_type": "display_data"
    }
   ],
   "source": [
    "gender_purchase_counts = {}\n",
    "gender_cookie_counts = {}\n",
    "\n",
    "for gender in unique_genders:\n",
    "    gender_purchase_counts[gender] = 0\n",
    "    for line in genders_list:\n",
    "        if line == gender:\n",
    "            gender_purchase_counts[gender] += 1\n",
    "            \n",
    "print(gender_purchase_counts)\n",
    "\n",
    "\n",
    "labels, values = zip(*gender_purchase_counts.items())\n",
    "plt.figure(figsize=(5,5)) \n",
    "plt.ylabel('Total Purchases')\n",
    "plt.xlabel('Gender')\n",
    "plt.title('Purchases Counts For Each Gender')\n",
    "plt.bar(labels, values)\n",
    "\n",
    "\n",
    "for gender in unique_genders:\n",
    "    gender_cookie_counts[gender] = 0\n",
    "    for line, purchase in zip(genders_list, cookie_purchases):\n",
    "        if line == gender:\n",
    "            gender_cookie_counts[gender] += purchase\n",
    "            \n",
    "print(gender_cookie_counts)\n",
    "\n",
    "labels, values = zip(*gender_cookie_counts.items())\n",
    "plt.figure(figsize=(5,5)) \n",
    "plt.ylabel('Total Cookies Bought')\n",
    "plt.xlabel('Gender')\n",
    "plt.title('Total Cookies Bought By Each Gender')\n",
    "plt.bar(labels, values)"
   ]
  },
  {
   "cell_type": "code",
   "execution_count": 88,
   "metadata": {},
   "outputs": [
    {
     "name": "stdout",
     "output_type": "stream",
     "text": [
      "{'2000': 17, '2010': 5, '2022': 3, '2873': 1, '2321': 3, '2210': 2, '2030': 1, '2763': 1, '2331': 2, '2344': 1, '2093': 2, '2444': 1, '2332': 1, '2333': 1, '2347': 1, '2001': 1, '2211': 1, '2222': 1, '2019': 1}\n",
      "{'2000': 17, '2010': 5, '2022': 3, '2873': 1, '2321': 3, '2210': 2, '2030': 1, '2763': 1, '2331': 2, '2344': 1, '2093': 2, '2444': 1, '2332': 1, '2333': 1, '2347': 1, '2001': 1, '2211': 1, '2222': 1, '2019': 1}\n",
      "{'M': 63, 'F': 120}\n"
     ]
    },
    {
     "data": {
      "text/plain": [
       "<BarContainer object of 19 artists>"
      ]
     },
     "execution_count": 88,
     "metadata": {},
     "output_type": "execute_result"
    },
    {
     "data": {
      "image/png": "[encoded data removed]",
      "text/plain": [
       "<Figure size 936x360 with 1 Axes>"
      ]
     },
     "metadata": {
      "needs_background": "light"
     },
     "output_type": "display_data"
    },
    {
     "data": {
      "image/png": "[encoded data removed]",
      "text/plain": [
       "<Figure size 936x360 with 1 Axes>"
      ]
     },
     "metadata": {
      "needs_background": "light"
     },
     "output_type": "display_data"
    }
   ],
   "source": [
    "postcode_purchase_counts = {}\n",
    "postcode_cookie_counts = {}\n",
    "\n",
    "for postcode in unique_postcodes:\n",
    "    postcode_purchase_counts[str(postcode)] = 0\n",
    "    for line in postcodes_list:\n",
    "        if line == postcode:\n",
    "            postcode_purchase_counts[str(postcode)] += 1\n",
    "            \n",
    "print(postcode_purchase_counts)\n",
    "\n",
    "\n",
    "labels, values = zip(*postcode_purchase_counts.items())\n",
    "plt.figure(figsize=(13,5)) \n",
    "plt.ylabel('Total Purchases')\n",
    "plt.xlabel('Postcode')\n",
    "plt.title('Purchases Counts For Each Postcode')\n",
    "plt.bar(labels, values)\n",
    "\n",
    "\n",
    "for postcode in unique_postcodes:\n",
    "    postcode_cookie_counts[str(postcode)] = 0\n",
    "    for line, purchase in zip(postcodes_list, cookie_purchases):\n",
    "        if line == postcode:\n",
    "            postcode_cookie_counts[str(postcode)] += purchase\n",
    "            \n",
    "print(postcode_purchase_counts)\n",
    "            \n",
    "print(gender_cookie_counts)\n",
    "\n",
    "labels, values = zip(*postcode_cookie_counts.items())\n",
    "plt.figure(figsize=(13,5)) \n",
    "plt.ylabel('Total Cookies Bought')\n",
    "plt.xlabel('Postcode')\n",
    "plt.title('Total Cookies Bought By Each Postcode')\n",
    "plt.bar(labels, values)"
   ]
  },
  {
   "cell_type": "code",
   "execution_count": null,
   "metadata": {},
   "outputs": [],
   "source": []
  }
 ],
 "metadata": {
  "kernelspec": {
   "display_name": "Python 3",
   "language": "python",
   "name": "python3"
  },
  "language_info": {
   "codemirror_mode": {
    "name": "ipython",
    "version": 3
   },
   "file_extension": ".py",
   "mimetype": "text/x-python",
   "name": "python",
   "nbconvert_exporter": "python",
   "pygments_lexer": "ipython3",
   "version": "3.7.3"
  }
 },
 "nbformat": 4,
 "nbformat_minor": 2
}
